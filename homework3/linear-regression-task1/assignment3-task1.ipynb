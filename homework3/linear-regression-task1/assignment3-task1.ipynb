{
 "cells": [
  {
   "cell_type": "code",
   "execution_count": null,
   "id": "e1345b1b-071b-4853-b6d0-c732fd2284a8",
   "metadata": {
    "tags": []
   },
   "outputs": [],
   "source": [
    "import numpy as np\n",
    "import pandas as pd\n",
    "import statsmodels.api as sm\n",
    "import seaborn as sns\n",
    "import matplotlib.pyplot as plt\n",
    "from sklearn.preprocessing import StandardScaler"
   ]
  },
  {
   "cell_type": "code",
   "execution_count": null,
   "id": "22f46665-c9f0-40d0-97fb-55c11a0060e2",
   "metadata": {
    "tags": []
   },
   "outputs": [],
   "source": [
    "df = pd.read_csv('insurance_data.csv')\n",
    "df.info()"
   ]
  },
  {
   "cell_type": "code",
   "execution_count": null,
   "id": "479584e7-c40f-4b18-8da1-fcdb0cd72f65",
   "metadata": {},
   "outputs": [],
   "source": [
    "# comments:\n",
    "# (1) there is a small amount of rows with missing values - they can be dropped\n",
    "# (2) you may want to maake use of https://pandas.pydata.org/docs/reference/api/pandas.get_dummies.html\n",
    "# (3) perform all your computations (solve the task) before the questions part, in a complete, clear and effective manner\n",
    "# (4) the questions part only print answers based on your solution"
   ]
  },
  {
   "cell_type": "markdown",
   "id": "37abb596",
   "metadata": {},
   "source": [
    "### Data Preparation"
   ]
  },
  {
   "cell_type": "code",
   "execution_count": null,
   "id": "48953bad",
   "metadata": {},
   "outputs": [],
   "source": [
    "# Drop rows with missing values\n",
    "df = df.dropna()\n",
    "\n",
    "# Convert categorical variables to numerical\n",
    "df['gender'] = df['gender'].map({'male': 0, 'female': 1})\n",
    "df['smoker'] = df['smoker'].map({'no': 0, 'yes': 1})"
   ]
  },
  {
   "cell_type": "markdown",
   "id": "20cdfd23",
   "metadata": {},
   "source": [
    "### Exploratory Data Analysis"
   ]
  },
  {
   "cell_type": "code",
   "execution_count": null,
   "id": "55091bde",
   "metadata": {},
   "outputs": [],
   "source": [
    "# Visualize the data with scatter plots\n",
    "sns.pairplot(df)\n",
    "# Adjust subplot parameters manually\n",
    "plt.subplots_adjust(left=0.1, right=0.9, top=0.9, bottom=0.1)\n",
    "plt.show()"
   ]
  },
  {
   "cell_type": "code",
   "execution_count": null,
   "id": "d3c993dc",
   "metadata": {},
   "outputs": [],
   "source": [
    "# Visualize the data with a correlation matrix\n",
    "correlation_matrix = df.corr() # Compute the correlation matrix\n",
    "sns.heatmap(correlation_matrix, annot=True, cmap='coolwarm')\n",
    "plt.show()"
   ]
  },
  {
   "cell_type": "markdown",
   "id": "c77ce387",
   "metadata": {},
   "source": [
    "### Model Training"
   ]
  },
  {
   "cell_type": "code",
   "execution_count": null,
   "id": "a448f08e",
   "metadata": {},
   "outputs": [],
   "source": [
    "# Define features and target\n",
    "x = df[['age', 'bmi', 'children', 'smoker']]\n",
    "# Not including weight because it is strongly correlated with bmi\n",
    "# Not including gender because it is useless perdictor (0 is in confidence interval)\n",
    "y = df['expenses']\n",
    "\n",
    "# Add a constant to the model (intercept)\n",
    "x = sm.add_constant(x)\n",
    "\n",
    "# Build the regression model\n",
    "model = sm.OLS(y, x)\n",
    "result = model.fit()\n",
    "\n",
    "# Print the summary of the regression model\n",
    "print(result.summary())"
   ]
  },
  {
   "cell_type": "markdown",
   "id": "eaf7908f",
   "metadata": {},
   "source": [
    "### Feature Scaling"
   ]
  },
  {
   "cell_type": "code",
   "execution_count": null,
   "id": "41156af5",
   "metadata": {},
   "outputs": [],
   "source": [
    "x = df[['age', 'bmi', 'children', 'smoker']]\n",
    "scaler = StandardScaler() # standardize features to have the mean of 0 and std of 1\n",
    "scaler.fit(x) # compute mean and std of the data, seperately for each column\n",
    "predictors_scaled = scaler.transform(x)\n",
    "df_scaled = pd.DataFrame(predictors_scaled, columns=['age', 'bmi', 'children', 'smoker'])\n",
    "df_scaled.describe()"
   ]
  },
  {
   "cell_type": "markdown",
   "id": "d378816f",
   "metadata": {},
   "source": [
    "### Model Training (Scaled Features)"
   ]
  },
  {
   "cell_type": "code",
   "execution_count": null,
   "id": "56b5b7d0",
   "metadata": {},
   "outputs": [],
   "source": [
    "y = y.reset_index(drop=True) # Should reset y's index\n",
    "\n",
    "x_scaled = scaler.fit_transform(x)\n",
    "x_scaled = pd.DataFrame(x_scaled, columns=x.columns)\n",
    "\n",
    "# Add a constant to the model (intercept)\n",
    "x_scaled = sm.add_constant(x_scaled)\n",
    "\n",
    "# Build the regression model\n",
    "model = sm.OLS(y, x_scaled)\n",
    "result = model.fit()\n",
    "\n",
    "# Print the summary of the regression model\n",
    "print(result.summary())"
   ]
  },
  {
   "cell_type": "markdown",
   "id": "5fdc46eb-6745-496b-9f05-25da4f07fdb4",
   "metadata": {},
   "source": [
    "#### Questions (answer the quesitons, all computations should precede this part)"
   ]
  },
  {
   "cell_type": "markdown",
   "id": "3bf55d3b-5ab0-4a85-907a-265890678f32",
   "metadata": {},
   "source": [
    "#### Question 1"
   ]
  },
  {
   "cell_type": "code",
   "execution_count": null,
   "id": "0e334107-1631-4a06-a27f-74cfe0c64bea",
   "metadata": {},
   "outputs": [],
   "source": [
    "# did you remove any numerical predictor from the data?\n",
    "# if no - why, if yes - how did you decide on the predictor to remove?\n",
    "# print a short (one-sentence) answer using the print() command"
   ]
  },
  {
   "cell_type": "markdown",
   "id": "0f608309",
   "metadata": {},
   "source": [
    "### Question 1 - Solution"
   ]
  },
  {
   "cell_type": "code",
   "execution_count": null,
   "id": "c5c55dd6",
   "metadata": {},
   "outputs": [],
   "source": [
    "print('Removing weight because it is strongly correlated with bmi helps to avoid multicollinearity, which can inflate the variance of coefficient estimates and make the model less reliable.')"
   ]
  },
  {
   "cell_type": "markdown",
   "id": "e8dcf249-0a7a-48e6-81dc-b8ffb578f286",
   "metadata": {},
   "source": [
    "#### Question 2"
   ]
  },
  {
   "cell_type": "code",
   "execution_count": null,
   "id": "aa4e2e3a-40af-41e6-a93f-c52c08e6d8c8",
   "metadata": {},
   "outputs": [],
   "source": [
    "# what is the amount of money a person is likely to spend on medical expenses with each additional year of age?\n",
    "# write here the value itself (hardcoded) based on your solution above\n",
    "# display your answer as a dataframe (as in assignment 2)"
   ]
  },
  {
   "cell_type": "markdown",
   "id": "54c80d77",
   "metadata": {},
   "source": [
    "### Question 2 - Solution"
   ]
  },
  {
   "cell_type": "code",
   "execution_count": null,
   "id": "bb73ef3a",
   "metadata": {},
   "outputs": [],
   "source": [
    "result = [('The amount of money a person is likely to spend on medical expenses with each additional year of age', 258.689)]\n",
    "pd.DataFrame(result)"
   ]
  },
  {
   "cell_type": "markdown",
   "id": "bbc895f4-027e-47f9-b864-03ac5f0c7115",
   "metadata": {},
   "source": [
    "#### Question 3"
   ]
  },
  {
   "cell_type": "code",
   "execution_count": null,
   "id": "a2f20dcd-e1d1-4bdb-80ec-95ec821dd540",
   "metadata": {},
   "outputs": [],
   "source": [
    "# what predictors have a significant contribution to the medical expenses amount?\n",
    "# report only signifnicant (P<0.05) predictors sorted by their contribution to the prediction from highest to lowest,\n",
    "# where for each predictor you specify if it has a positive or a negative effect on the medical expenses\n",
    "\n",
    "# for categorical variables - specify the effect of individual values that appear signfnicant (e.g., \"smoker-yes\", \"smoker-no\")\n",
    "\n",
    "# display your answer as a dataframe with two columns: (1) predictor, (2) effect (positive or negative)\n",
    "# no need to include the constant (b_0) value"
   ]
  },
  {
   "cell_type": "markdown",
   "id": "7b2129b8",
   "metadata": {},
   "source": [
    "### Question 3 - Solution"
   ]
  },
  {
   "cell_type": "code",
   "execution_count": null,
   "id": "368992a5",
   "metadata": {},
   "outputs": [],
   "source": [
    "# Create a DataFrame for significant predictors and their effects\n",
    "data = {\n",
    "    \"predictor\": [\"smoker-yes\", \"age\", \"bmi\", \"children\"],\n",
    "    \"effect\": [\"positive\", \"positive\", \"positive\", \"positive\"]\n",
    "}\n",
    "\n",
    "pd.DataFrame(data)"
   ]
  }
 ],
 "metadata": {
  "kernelspec": {
   "display_name": "Python 3 (ipykernel)",
   "language": "python",
   "name": "python3"
  },
  "language_info": {
   "codemirror_mode": {
    "name": "ipython",
    "version": 3
   },
   "file_extension": ".py",
   "mimetype": "text/x-python",
   "name": "python",
   "nbconvert_exporter": "python",
   "pygments_lexer": "ipython3",
   "version": "3.11.5"
  }
 },
 "nbformat": 4,
 "nbformat_minor": 5
}
